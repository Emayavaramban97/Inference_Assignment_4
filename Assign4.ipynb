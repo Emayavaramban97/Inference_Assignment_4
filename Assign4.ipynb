{
 "cells": [
  {
   "cell_type": "code",
   "execution_count": 4,
   "id": "df6761a9",
   "metadata": {},
   "outputs": [],
   "source": [
    "#Assignment 4\n",
    "import matplotlib.pyplot as plt\n",
    "from itertools import combinations\n",
    "import numpy as np\n",
    "import pandas as pd\n",
    "import statistics\n",
    "df=pd.read_excel('E:\\Inference\\Assignment 4\\Data for python.xlsx')"
   ]
  },
  {
   "cell_type": "code",
   "execution_count": 5,
   "id": "5f960e87",
   "metadata": {},
   "outputs": [
    {
     "data": {
      "text/html": [
       "<div>\n",
       "<style scoped>\n",
       "    .dataframe tbody tr th:only-of-type {\n",
       "        vertical-align: middle;\n",
       "    }\n",
       "\n",
       "    .dataframe tbody tr th {\n",
       "        vertical-align: top;\n",
       "    }\n",
       "\n",
       "    .dataframe thead th {\n",
       "        text-align: right;\n",
       "    }\n",
       "</style>\n",
       "<table border=\"1\" class=\"dataframe\">\n",
       "  <thead>\n",
       "    <tr style=\"text-align: right;\">\n",
       "      <th></th>\n",
       "      <th>Position</th>\n",
       "      <th>Fertilizer</th>\n",
       "      <th>Yield</th>\n",
       "    </tr>\n",
       "  </thead>\n",
       "  <tbody>\n",
       "    <tr>\n",
       "      <th>0</th>\n",
       "      <td>1</td>\n",
       "      <td>A</td>\n",
       "      <td>29.9</td>\n",
       "    </tr>\n",
       "    <tr>\n",
       "      <th>1</th>\n",
       "      <td>2</td>\n",
       "      <td>A</td>\n",
       "      <td>11.4</td>\n",
       "    </tr>\n",
       "    <tr>\n",
       "      <th>2</th>\n",
       "      <td>3</td>\n",
       "      <td>B</td>\n",
       "      <td>26.6</td>\n",
       "    </tr>\n",
       "    <tr>\n",
       "      <th>3</th>\n",
       "      <td>4</td>\n",
       "      <td>B</td>\n",
       "      <td>23.7</td>\n",
       "    </tr>\n",
       "    <tr>\n",
       "      <th>4</th>\n",
       "      <td>5</td>\n",
       "      <td>A</td>\n",
       "      <td>25.3</td>\n",
       "    </tr>\n",
       "    <tr>\n",
       "      <th>5</th>\n",
       "      <td>6</td>\n",
       "      <td>B</td>\n",
       "      <td>28.5</td>\n",
       "    </tr>\n",
       "    <tr>\n",
       "      <th>6</th>\n",
       "      <td>7</td>\n",
       "      <td>B</td>\n",
       "      <td>14.2</td>\n",
       "    </tr>\n",
       "    <tr>\n",
       "      <th>7</th>\n",
       "      <td>8</td>\n",
       "      <td>B</td>\n",
       "      <td>17.9</td>\n",
       "    </tr>\n",
       "    <tr>\n",
       "      <th>8</th>\n",
       "      <td>9</td>\n",
       "      <td>A</td>\n",
       "      <td>16.5</td>\n",
       "    </tr>\n",
       "    <tr>\n",
       "      <th>9</th>\n",
       "      <td>10</td>\n",
       "      <td>A</td>\n",
       "      <td>21.1</td>\n",
       "    </tr>\n",
       "    <tr>\n",
       "      <th>10</th>\n",
       "      <td>11</td>\n",
       "      <td>B</td>\n",
       "      <td>24.3</td>\n",
       "    </tr>\n",
       "  </tbody>\n",
       "</table>\n",
       "</div>"
      ],
      "text/plain": [
       "    Position Fertilizer  Yield\n",
       "0          1          A   29.9\n",
       "1          2          A   11.4\n",
       "2          3          B   26.6\n",
       "3          4          B   23.7\n",
       "4          5          A   25.3\n",
       "5          6          B   28.5\n",
       "6          7          B   14.2\n",
       "7          8          B   17.9\n",
       "8          9          A   16.5\n",
       "9         10          A   21.1\n",
       "10        11          B   24.3"
      ]
     },
     "execution_count": 5,
     "metadata": {},
     "output_type": "execute_result"
    }
   ],
   "source": [
    "#Displaying given data\n",
    "df"
   ]
  },
  {
   "cell_type": "code",
   "execution_count": 6,
   "id": "98d54253",
   "metadata": {},
   "outputs": [
    {
     "data": {
      "text/plain": [
       "20.839999999999996"
      ]
     },
     "execution_count": 6,
     "metadata": {},
     "output_type": "execute_result"
    }
   ],
   "source": [
    "A_mean=df.loc[df['Fertilizer']=='A'].Yield.mean()\n",
    "A_mean"
   ]
  },
  {
   "cell_type": "code",
   "execution_count": 7,
   "id": "a915e252",
   "metadata": {},
   "outputs": [
    {
     "data": {
      "text/plain": [
       "22.533333333333335"
      ]
     },
     "execution_count": 7,
     "metadata": {},
     "output_type": "execute_result"
    }
   ],
   "source": [
    "B_mean=df.loc[df['Fertilizer']=='B'].Yield.mean()\n",
    "B_mean\n"
   ]
  },
  {
   "cell_type": "code",
   "execution_count": 8,
   "id": "65738e88",
   "metadata": {},
   "outputs": [],
   "source": [
    "d_star=B_mean-A_mean"
   ]
  },
  {
   "cell_type": "code",
   "execution_count": 9,
   "id": "bc0c0c7a",
   "metadata": {},
   "outputs": [
    {
     "data": {
      "text/plain": [
       "1.6933333333333387"
      ]
     },
     "execution_count": 9,
     "metadata": {},
     "output_type": "execute_result"
    }
   ],
   "source": [
    "d_star"
   ]
  },
  {
   "cell_type": "code",
   "execution_count": 10,
   "id": "20350977",
   "metadata": {},
   "outputs": [
    {
     "data": {
      "text/plain": [
       "7.245550358668415"
      ]
     },
     "execution_count": 10,
     "metadata": {},
     "output_type": "execute_result"
    }
   ],
   "source": [
    "std_A=statistics.stdev(df.loc[df['Fertilizer']=='A'].Yield)\n",
    "std_A"
   ]
  },
  {
   "cell_type": "code",
   "execution_count": 11,
   "id": "893edb80",
   "metadata": {},
   "outputs": [
    {
     "data": {
      "text/plain": [
       "5.4320039273427145"
      ]
     },
     "execution_count": 11,
     "metadata": {},
     "output_type": "execute_result"
    }
   ],
   "source": [
    "std_B=statistics.stdev(df.loc[df['Fertilizer']=='B'].Yield)\n",
    "std_B\n"
   ]
  },
  {
   "cell_type": "code",
   "execution_count": 12,
   "id": "c1888f6e",
   "metadata": {},
   "outputs": [],
   "source": [
    "pooled_sd=np.sqrt((4*std_A**2+5*std_B**2)/9)"
   ]
  },
  {
   "cell_type": "code",
   "execution_count": 13,
   "id": "7df09cf9",
   "metadata": {},
   "outputs": [
    {
     "data": {
      "text/plain": [
       "6.302780103814271"
      ]
     },
     "execution_count": 13,
     "metadata": {},
     "output_type": "execute_result"
    }
   ],
   "source": [
    "pooled_sd"
   ]
  },
  {
   "cell_type": "code",
   "execution_count": 14,
   "id": "b3988011",
   "metadata": {},
   "outputs": [
    {
     "data": {
      "text/plain": [
       "3.816522882622381"
      ]
     },
     "execution_count": 14,
     "metadata": {},
     "output_type": "execute_result"
    }
   ],
   "source": [
    "import numpy as np\n",
    "se=pooled_sd*np.sqrt(1/5+1/6)\n",
    "se"
   ]
  },
  {
   "cell_type": "code",
   "execution_count": 15,
   "id": "37301f80",
   "metadata": {},
   "outputs": [],
   "source": [
    "# Finding t-score\n",
    "T=d_star/se"
   ]
  },
  {
   "cell_type": "code",
   "execution_count": 16,
   "id": "9c64db2f",
   "metadata": {},
   "outputs": [
    {
     "data": {
      "text/plain": [
       "0.4436848370655721"
      ]
     },
     "execution_count": 16,
     "metadata": {},
     "output_type": "execute_result"
    }
   ],
   "source": [
    "T"
   ]
  },
  {
   "cell_type": "code",
   "execution_count": 25,
   "id": "1ad41599",
   "metadata": {},
   "outputs": [],
   "source": [
    "import scipy\n",
    "from scipy import stats"
   ]
  },
  {
   "cell_type": "code",
   "execution_count": 26,
   "id": "ae008e16",
   "metadata": {},
   "outputs": [
    {
     "data": {
      "text/plain": [
       "0.33387265995495874"
      ]
     },
     "execution_count": 26,
     "metadata": {},
     "output_type": "execute_result"
    }
   ],
   "source": [
    "#Finding p-value from the t-test\n",
    "scipy.stats.t.sf(T, df=9)"
   ]
  },
  {
   "cell_type": "code",
   "execution_count": 19,
   "id": "270bfc5f",
   "metadata": {},
   "outputs": [
    {
     "data": {
      "text/plain": [
       "(29.9, 11.4, 26.6, 23.7, 25.3, 28.5)"
      ]
     },
     "execution_count": 19,
     "metadata": {},
     "output_type": "execute_result"
    }
   ],
   "source": [
    "# Randomization\n",
    "l=(29.9,11.4,26.6,23.7,25.3,28.5,14.2,17.9,16.5,21.1,24.3)\n",
    "comb=combinations([29.9,11.4,26.6,23.7,25.3,28.5,14.2,17.9,16.5,21.1,24.3],6)\n",
    "c=[]\n",
    "for i in list(comb):\n",
    "  c.append(i)\n",
    "c[0]"
   ]
  },
  {
   "cell_type": "code",
   "execution_count": 20,
   "id": "afa9508e",
   "metadata": {},
   "outputs": [],
   "source": [
    "#Finding the sampling distribution as differ\n",
    "differ=[]\n",
    "for i in range(462):\n",
    " differ.append(sum(c[i])/6-(sum(l)-sum(c[i]))/5)"
   ]
  },
  {
   "cell_type": "code",
   "execution_count": 21,
   "id": "df7dbf2f",
   "metadata": {},
   "outputs": [
    {
     "data": {
      "text/plain": [
       "(array([ 8., 25., 46., 78., 91., 89., 65., 38., 18.,  4.]),\n",
       " array([-9.45333333, -7.49166667, -5.53      , -3.56833333, -1.60666667,\n",
       "         0.355     ,  2.31666667,  4.27833333,  6.24      ,  8.20166667,\n",
       "        10.16333333]),\n",
       " <BarContainer object of 10 artists>)"
      ]
     },
     "execution_count": 21,
     "metadata": {},
     "output_type": "execute_result"
    },
    {
     "data": {
      "image/png": "[encoded data removed]",
      "text/plain": [
       "<Figure size 432x288 with 1 Axes>"
      ]
     },
     "metadata": {
      "needs_background": "light"
     },
     "output_type": "display_data"
    }
   ],
   "source": [
    "#Plotting the distribution\n",
    "plt.hist(differ)"
   ]
  },
  {
   "cell_type": "code",
   "execution_count": 28,
   "id": "9584afbb",
   "metadata": {},
   "outputs": [
    {
     "name": "stdout",
     "output_type": "stream",
     "text": [
      "0.3333333333333335\n"
     ]
    }
   ],
   "source": [
    "#Finding the p-value as percentile score of d-star\n",
    "p=1-stats.percentileofscore(differ,d_star,kind='strict')/100\n",
    "print(p)"
   ]
  }
 ],
 "metadata": {
  "kernelspec": {
   "display_name": "base",
   "language": "python",
   "name": "python3"
  },
  "language_info": {
   "codemirror_mode": {
    "name": "ipython",
    "version": 3
   },
   "file_extension": ".py",
   "mimetype": "text/x-python",
   "name": "python",
   "nbconvert_exporter": "python",
   "pygments_lexer": "ipython3",
   "version": "3.9.12"
  },
  "vscode": {
   "interpreter": {
    "hash": "09879107b36074a7d08462e7ec136a05ef13efa02b34deeffead86798234d6f2"
   }
  }
 },
 "nbformat": 4,
 "nbformat_minor": 5
}
